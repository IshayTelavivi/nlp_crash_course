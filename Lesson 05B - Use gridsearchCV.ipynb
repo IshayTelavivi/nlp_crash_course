{
 "cells": [
  {
   "cell_type": "markdown",
   "metadata": {},
   "source": [
    "# Lesson 05B - Using GridSearchCV\n"
   ]
  },
  {
   "cell_type": "markdown",
   "metadata": {},
   "source": [
    "Besides grid search and randomized search, there is a new approach called Bayesian Opptimization. More info can be found [here](https://github.com/shibuiwilliam/keras_gpyopt), [here](https://github.com/keras-team/keras/issues/2477), [great example here](https://github.com/maxpumperla/hyperas) and a [list of libraries](https://medium.com/@mikkokotila/a-comprehensive-list-of-hyperparameter-optimization-tuning-solutions-88e067f19d9)"
   ]
  },
  {
   "cell_type": "code",
   "execution_count": 19,
   "metadata": {
    "collapsed": true
   },
   "outputs": [],
   "source": [
    "from keras.datasets import imdb\n",
    "import pandas as pd\n",
    "import numpy as np\n",
    "\n",
    "from keras.preprocessing import sequence"
   ]
  },
  {
   "cell_type": "markdown",
   "metadata": {},
   "source": [
    "**Prepare the data**"
   ]
  },
  {
   "cell_type": "code",
   "execution_count": 20,
   "metadata": {
    "collapsed": true
   },
   "outputs": [],
   "source": [
    "max_features = 5000"
   ]
  },
  {
   "cell_type": "code",
   "execution_count": 21,
   "metadata": {
    "collapsed": true
   },
   "outputs": [],
   "source": [
    "(X_train, y_train), (X_test, y_test) = imdb.load_data(num_words=max_features) # instead on nb_words="
   ]
  },
  {
   "cell_type": "markdown",
   "metadata": {},
   "source": [
    "I can use another argument here, which is 'skip_top=', and that to ignore X top most frequent words"
   ]
  },
  {
   "cell_type": "code",
   "execution_count": 22,
   "metadata": {
    "collapsed": true
   },
   "outputs": [],
   "source": [
    "maxlen = 400"
   ]
  },
  {
   "cell_type": "markdown",
   "metadata": {},
   "source": [
    "We define maximum length of 400. It means that posts shoeter than 400 will be filled with 0s, and longer posts are cut."
   ]
  },
  {
   "cell_type": "code",
   "execution_count": 23,
   "metadata": {
    "collapsed": true
   },
   "outputs": [],
   "source": [
    "X_train = sequence.pad_sequences(X_train, maxlen=maxlen)\n",
    "X_test = sequence.pad_sequences(X_test, maxlen=maxlen)"
   ]
  },
  {
   "cell_type": "markdown",
   "metadata": {},
   "source": [
    "The first two arrays were padded, and the third one was cut."
   ]
  },
  {
   "cell_type": "markdown",
   "metadata": {},
   "source": [
    "**Now defining the model**\n",
    "\n",
    "As opposed to the original file, I an creating the model in a function.\n",
    "\n",
    "Also gathering all the imports from the original version (05) in the following cell"
   ]
  },
  {
   "cell_type": "code",
   "execution_count": 24,
   "metadata": {
    "collapsed": true
   },
   "outputs": [],
   "source": [
    "from keras.models import Sequential\n",
    "from keras.layers import Embedding\n",
    "from keras.layers import SpatialDropout1D\n",
    "from keras.layers import Convolution1D\n",
    "from keras.layers import Conv1D\n",
    "from keras.layers import GlobalMaxPooling1D\n",
    "from keras.layers import Dense, Dropout, Activation"
   ]
  },
  {
   "cell_type": "markdown",
   "metadata": {},
   "source": [
    "Keras models can be used in scikit-learn by wrapping them with the **KerasClassifier** or **KerasRegressor** class.\n",
    "\n",
    "To use these wrappers you must define a function that creates and returns your Keras sequential model, then pass this function to the build_fn argument when constructing the KerasClassifier class."
   ]
  },
  {
   "cell_type": "code",
   "execution_count": 25,
   "metadata": {
    "collapsed": true
   },
   "outputs": [],
   "source": [
    "from keras.wrappers.scikit_learn import KerasClassifier\n",
    "from sklearn.model_selection import GridSearchCV"
   ]
  },
  {
   "cell_type": "code",
   "execution_count": 26,
   "metadata": {
    "collapsed": true
   },
   "outputs": [],
   "source": [
    "def create_model(dropout=0.2):\n",
    "    # create model\n",
    "    model = Sequential()\n",
    "    model.add(Embedding(input_dim=max_features, output_dim=50, input_length=maxlen))\n",
    "    model.add(SpatialDropout1D(dropout))\n",
    "    model.add(Convolution1D(\n",
    "                            filters=250, # instead of nb_filter=\n",
    "                            kernel_size=3, # instead of filter_length=\n",
    "                            padding='valid', # Instead of border_mode=\n",
    "                            activation='relu',\n",
    "                            strides=1)) #instead of subsample_length=\n",
    "    model.add(GlobalMaxPooling1D())\n",
    "    model.add(Dense(250)) # I define the output of the dense (vector length after the layer). It remains 250\n",
    "    model.add(Dropout(dropout))\n",
    "    model.add(Activation('relu'))\n",
    "    model.add(Dense(1))\n",
    "    model.add(Activation('sigmoid'))\n",
    "    model.compile(loss='binary_crossentropy', optimizer='adam', metrics=['accuracy'])\n",
    "    \n",
    "    return model"
   ]
  },
  {
   "cell_type": "code",
   "execution_count": 27,
   "metadata": {
    "collapsed": true
   },
   "outputs": [],
   "source": [
    "\n",
    "# model.add(\n",
    "#     Convolution1D(\n",
    "#         filters=250, # instead of nb_filter=\n",
    "#         kernel_size=3, # instead of filter_length=\n",
    "#         padding='valid', # Instead of border_mode=\n",
    "#         activation='relu',\n",
    "#         strides=1, #instead of subsample_length=\n",
    "#     )\n",
    "# )"
   ]
  },
  {
   "cell_type": "markdown",
   "metadata": {},
   "source": [
    "Within the KerasClassifier I include the original fit agruments (batch_size, epochs, verbose), unless I want to grid search them, then I include them in the param_grid"
   ]
  },
  {
   "cell_type": "code",
   "execution_count": 28,
   "metadata": {
    "collapsed": true
   },
   "outputs": [],
   "source": [
    "model = KerasClassifier(build_fn=create_model, verbose=1, epochs=1, batch_size=32)"
   ]
  },
  {
   "cell_type": "markdown",
   "metadata": {},
   "source": [
    "**GridSearchCV**"
   ]
  },
  {
   "cell_type": "code",
   "execution_count": 32,
   "metadata": {
    "collapsed": true
   },
   "outputs": [],
   "source": [
    "# param_grid = {\"dropout\": [0.3, 0.4, 0.5]}"
   ]
  },
  {
   "cell_type": "code",
   "execution_count": 35,
   "metadata": {
    "collapsed": true
   },
   "outputs": [],
   "source": [
    "# grid = GridSearchCV(estimator=model, param_grid=param_grid, n_jobs=1, return_train_score=True, cv=2)"
   ]
  },
  {
   "cell_type": "code",
   "execution_count": 36,
   "metadata": {},
   "outputs": [
    {
     "name": "stdout",
     "output_type": "stream",
     "text": [
      "Epoch 1/1\n",
      "12500/12500 [==============================] - 81s 6ms/step - loss: 0.5291 - acc: 0.7067\n",
      "12500/12500 [==============================] - 16s 1ms/step\n",
      "12500/12500 [==============================] - 16s 1ms/step\n",
      "Epoch 1/1\n",
      "12500/12500 [==============================] - 82s 7ms/step - loss: 0.5237 - acc: 0.7100\n",
      "12500/12500 [==============================] - 17s 1ms/step\n",
      "12500/12500 [==============================] - 16s 1ms/step\n",
      "Epoch 1/1\n",
      "12500/12500 [==============================] - 83s 7ms/step - loss: 0.5658 - acc: 0.6808\n",
      "12500/12500 [==============================] - 16s 1ms/step\n",
      "12500/12500 [==============================] - 16s 1ms/step\n",
      "Epoch 1/1\n",
      "12500/12500 [==============================] - 83s 7ms/step - loss: 0.5661 - acc: 0.6686\n",
      "12500/12500 [==============================] - 17s 1ms/step\n",
      "12500/12500 [==============================] - 16s 1ms/step\n",
      "Epoch 1/1\n",
      "12500/12500 [==============================] - 82s 7ms/step - loss: 0.6056 - acc: 0.6315\n",
      "12500/12500 [==============================] - 16s 1ms/step\n",
      "12500/12500 [==============================] - 15s 1ms/step\n",
      "Epoch 1/1\n",
      "12500/12500 [==============================] - 84s 7ms/step - loss: 0.6064 - acc: 0.6383\n",
      "12500/12500 [==============================] - 17s 1ms/step\n",
      "12500/12500 [==============================] - 16s 1ms/step\n",
      "Epoch 1/1\n",
      "25000/25000 [==============================] - 165s 7ms/step - loss: 0.4235 - acc: 0.7890\n"
     ]
    }
   ],
   "source": [
    "# grid_result = grid.fit(X_train, y_train)"
   ]
  },
  {
   "cell_type": "markdown",
   "metadata": {},
   "source": [
    "Now, After the grid search we can view the following:"
   ]
  },
  {
   "cell_type": "code",
   "execution_count": 37,
   "metadata": {},
   "outputs": [
    {
     "data": {
      "text/plain": [
       "0.84260000001907354"
      ]
     },
     "execution_count": 37,
     "metadata": {},
     "output_type": "execute_result"
    }
   ],
   "source": [
    "# # Best score\n",
    "# grid_result.best_score_"
   ]
  },
  {
   "cell_type": "code",
   "execution_count": 38,
   "metadata": {},
   "outputs": [
    {
     "data": {
      "text/plain": [
       "{'dropout': 0.3}"
      ]
     },
     "execution_count": 38,
     "metadata": {},
     "output_type": "execute_result"
    }
   ],
   "source": [
    "# # Best params\n",
    "# grid_result.best_params_"
   ]
  },
  {
   "cell_type": "markdown",
   "metadata": {},
   "source": [
    "cv_results_ include a lot of information about the run. It can be viewed directly (print(grid_result.cv_results_)), or be be imported into a pandas DataFrame."
   ]
  },
  {
   "cell_type": "code",
   "execution_count": 39,
   "metadata": {},
   "outputs": [
    {
     "data": {
      "text/plain": [
       "{'mean_fit_time': array([ 82.74873328,  83.85946524,  84.53690612]),\n",
       " 'mean_score_time': array([ 16.6534431 ,  16.56416392,  16.52149272]),\n",
       " 'mean_test_score': array([ 0.8426 ,  0.82388,  0.81444]),\n",
       " 'mean_train_score': array([ 0.87356,  0.84876,  0.82976]),\n",
       " 'param_dropout': masked_array(data = [0.3 0.4 0.5],\n",
       "              mask = [False False False],\n",
       "        fill_value = ?),\n",
       " 'params': [{'dropout': 0.3}, {'dropout': 0.4}, {'dropout': 0.5}],\n",
       " 'rank_test_score': array([1, 2, 3]),\n",
       " 'split0_test_score': array([ 0.84472,  0.81864,  0.81752]),\n",
       " 'split0_train_score': array([ 0.88008,  0.84488,  0.83592]),\n",
       " 'split1_test_score': array([ 0.84048,  0.82912,  0.81136]),\n",
       " 'split1_train_score': array([ 0.86704,  0.85264,  0.8236 ]),\n",
       " 'std_fit_time': array([ 0.49385214,  0.09287059,  0.99728048]),\n",
       " 'std_score_time': array([ 0.28842354,  0.09349632,  0.08408713]),\n",
       " 'std_test_score': array([ 0.00212,  0.00524,  0.00308]),\n",
       " 'std_train_score': array([ 0.00652,  0.00388,  0.00616])}"
      ]
     },
     "execution_count": 39,
     "metadata": {},
     "output_type": "execute_result"
    }
   ],
   "source": [
    "# grid_result.cv_results_"
   ]
  },
  {
   "cell_type": "code",
   "execution_count": 40,
   "metadata": {},
   "outputs": [
    {
     "data": {
      "text/html": [
       "<div>\n",
       "<style>\n",
       "    .dataframe thead tr:only-child th {\n",
       "        text-align: right;\n",
       "    }\n",
       "\n",
       "    .dataframe thead th {\n",
       "        text-align: left;\n",
       "    }\n",
       "\n",
       "    .dataframe tbody tr th {\n",
       "        vertical-align: top;\n",
       "    }\n",
       "</style>\n",
       "<table border=\"1\" class=\"dataframe\">\n",
       "  <thead>\n",
       "    <tr style=\"text-align: right;\">\n",
       "      <th></th>\n",
       "      <th>mean_fit_time</th>\n",
       "      <th>mean_score_time</th>\n",
       "      <th>mean_test_score</th>\n",
       "      <th>mean_train_score</th>\n",
       "      <th>param_dropout</th>\n",
       "      <th>params</th>\n",
       "      <th>rank_test_score</th>\n",
       "      <th>split0_test_score</th>\n",
       "      <th>split0_train_score</th>\n",
       "      <th>split1_test_score</th>\n",
       "      <th>split1_train_score</th>\n",
       "      <th>std_fit_time</th>\n",
       "      <th>std_score_time</th>\n",
       "      <th>std_test_score</th>\n",
       "      <th>std_train_score</th>\n",
       "    </tr>\n",
       "  </thead>\n",
       "  <tbody>\n",
       "    <tr>\n",
       "      <th>0</th>\n",
       "      <td>82.748733</td>\n",
       "      <td>16.653443</td>\n",
       "      <td>0.84260</td>\n",
       "      <td>0.87356</td>\n",
       "      <td>0.3</td>\n",
       "      <td>{'dropout': 0.3}</td>\n",
       "      <td>1</td>\n",
       "      <td>0.84472</td>\n",
       "      <td>0.88008</td>\n",
       "      <td>0.84048</td>\n",
       "      <td>0.86704</td>\n",
       "      <td>0.493852</td>\n",
       "      <td>0.288424</td>\n",
       "      <td>0.00212</td>\n",
       "      <td>0.00652</td>\n",
       "    </tr>\n",
       "    <tr>\n",
       "      <th>1</th>\n",
       "      <td>83.859465</td>\n",
       "      <td>16.564164</td>\n",
       "      <td>0.82388</td>\n",
       "      <td>0.84876</td>\n",
       "      <td>0.4</td>\n",
       "      <td>{'dropout': 0.4}</td>\n",
       "      <td>2</td>\n",
       "      <td>0.81864</td>\n",
       "      <td>0.84488</td>\n",
       "      <td>0.82912</td>\n",
       "      <td>0.85264</td>\n",
       "      <td>0.092871</td>\n",
       "      <td>0.093496</td>\n",
       "      <td>0.00524</td>\n",
       "      <td>0.00388</td>\n",
       "    </tr>\n",
       "    <tr>\n",
       "      <th>2</th>\n",
       "      <td>84.536906</td>\n",
       "      <td>16.521493</td>\n",
       "      <td>0.81444</td>\n",
       "      <td>0.82976</td>\n",
       "      <td>0.5</td>\n",
       "      <td>{'dropout': 0.5}</td>\n",
       "      <td>3</td>\n",
       "      <td>0.81752</td>\n",
       "      <td>0.83592</td>\n",
       "      <td>0.81136</td>\n",
       "      <td>0.82360</td>\n",
       "      <td>0.997280</td>\n",
       "      <td>0.084087</td>\n",
       "      <td>0.00308</td>\n",
       "      <td>0.00616</td>\n",
       "    </tr>\n",
       "  </tbody>\n",
       "</table>\n",
       "</div>"
      ],
      "text/plain": [
       "   mean_fit_time  mean_score_time  mean_test_score  mean_train_score  \\\n",
       "0      82.748733        16.653443          0.84260           0.87356   \n",
       "1      83.859465        16.564164          0.82388           0.84876   \n",
       "2      84.536906        16.521493          0.81444           0.82976   \n",
       "\n",
       "  param_dropout            params  rank_test_score  split0_test_score  \\\n",
       "0           0.3  {'dropout': 0.3}                1            0.84472   \n",
       "1           0.4  {'dropout': 0.4}                2            0.81864   \n",
       "2           0.5  {'dropout': 0.5}                3            0.81752   \n",
       "\n",
       "   split0_train_score  split1_test_score  split1_train_score  std_fit_time  \\\n",
       "0             0.88008            0.84048             0.86704      0.493852   \n",
       "1             0.84488            0.82912             0.85264      0.092871   \n",
       "2             0.83592            0.81136             0.82360      0.997280   \n",
       "\n",
       "   std_score_time  std_test_score  std_train_score  \n",
       "0        0.288424         0.00212          0.00652  \n",
       "1        0.093496         0.00524          0.00388  \n",
       "2        0.084087         0.00308          0.00616  "
      ]
     },
     "execution_count": 40,
     "metadata": {},
     "output_type": "execute_result"
    }
   ],
   "source": [
    "# pd.DataFrame(grid_result.cv_results_)"
   ]
  },
  {
   "cell_type": "markdown",
   "metadata": {},
   "source": [
    "**How to print a summary of the model?**\n",
    "Just use the summary() function to the create_model() function"
   ]
  },
  {
   "cell_type": "code",
   "execution_count": 41,
   "metadata": {},
   "outputs": [
    {
     "name": "stdout",
     "output_type": "stream",
     "text": [
      "_________________________________________________________________\n",
      "Layer (type)                 Output Shape              Param #   \n",
      "=================================================================\n",
      "embedding_28 (Embedding)     (None, 400, 50)           250000    \n",
      "_________________________________________________________________\n",
      "spatial_dropout1d_28 (Spatia (None, 400, 50)           0         \n",
      "_________________________________________________________________\n",
      "conv1d_28 (Conv1D)           (None, 398, 250)          37750     \n",
      "_________________________________________________________________\n",
      "global_max_pooling1d_28 (Glo (None, 250)               0         \n",
      "_________________________________________________________________\n",
      "dense_55 (Dense)             (None, 250)               62750     \n",
      "_________________________________________________________________\n",
      "dropout_28 (Dropout)         (None, 250)               0         \n",
      "_________________________________________________________________\n",
      "activation_55 (Activation)   (None, 250)               0         \n",
      "_________________________________________________________________\n",
      "dense_56 (Dense)             (None, 1)                 251       \n",
      "_________________________________________________________________\n",
      "activation_56 (Activation)   (None, 1)                 0         \n",
      "=================================================================\n",
      "Total params: 350,751\n",
      "Trainable params: 350,751\n",
      "Non-trainable params: 0\n",
      "_________________________________________________________________\n"
     ]
    }
   ],
   "source": [
    "create_model().summary()"
   ]
  },
  {
   "cell_type": "markdown",
   "metadata": {},
   "source": [
    "**Randomized search**"
   ]
  },
  {
   "cell_type": "markdown",
   "metadata": {},
   "source": [
    "If a float - use \"uniform\"().\n",
    "if an integer - use sp_randint().\n",
    "for categorical it is like in grid search - [\"one\", \"two]"
   ]
  },
  {
   "cell_type": "code",
   "execution_count": 15,
   "metadata": {},
   "outputs": [
    {
     "name": "stdout",
     "output_type": "stream",
     "text": [
      "Epoch 1/1\n",
      "12500/12500 [==============================] - 80s 6ms/step - loss: 0.6952 - acc: 0.5035\n",
      "12500/12500 [==============================] - 16s 1ms/step\n",
      "12500/12500 [==============================] - 15s 1ms/step\n",
      "Epoch 1/1\n",
      "12500/12500 [==============================] - 80s 6ms/step - loss: 0.6967 - acc: 0.4960\n",
      "12500/12500 [==============================] - 16s 1ms/step\n",
      "12500/12500 [==============================] - 15s 1ms/step\n",
      "Epoch 1/1\n",
      "12500/12500 [==============================] - 68s 5ms/step - loss: 0.5183 - acc: 0.7159\n",
      "12500/12500 [==============================] - 12s 927us/step\n",
      "12500/12500 [==============================] - 12s 950us/step\n",
      "Epoch 1/1\n",
      "12500/12500 [==============================] - 55s 4ms/step - loss: 0.5320 - acc: 0.7059\n",
      "12500/12500 [==============================] - 13s 1ms/step\n",
      "12500/12500 [==============================] - 12s 943us/step\n",
      "Epoch 1/1\n",
      "12500/12500 [==============================] - 54s 4ms/step - loss: 0.6973 - acc: 0.4970\n",
      "12500/12500 [==============================] - 12s 926us/step\n",
      "12500/12500 [==============================] - 11s 909us/step\n",
      "Epoch 1/1\n",
      "12500/12500 [==============================] - 54s 4ms/step - loss: 0.6963 - acc: 0.5046\n",
      "12500/12500 [==============================] - 12s 963us/step\n",
      "12500/12500 [==============================] - 11s 920us/step\n",
      "Epoch 1/1\n",
      "25000/25000 [==============================] - 108s 4ms/step - loss: 0.4291 - acc: 0.7797\n"
     ]
    }
   ],
   "source": [
    "from sklearn.model_selection import RandomizedSearchCV\n",
    "from scipy.stats import uniform\n",
    "param_dist= {\"dropout\": uniform(0.3, 0.5)}\n",
    "random_grid = RandomizedSearchCV(estimator=model, param_distributions=param_dist, n_iter = 3, n_jobs=1, return_train_score=True, cv=2)\n",
    "random_grid_result = random_grid.fit(X_train, y_train)"
   ]
  },
  {
   "cell_type": "code",
   "execution_count": 16,
   "metadata": {},
   "outputs": [
    {
     "data": {
      "text/plain": [
       "0.84960000000000002"
      ]
     },
     "execution_count": 16,
     "metadata": {},
     "output_type": "execute_result"
    }
   ],
   "source": [
    "random_grid_result.best_score_"
   ]
  },
  {
   "cell_type": "code",
   "execution_count": 17,
   "metadata": {},
   "outputs": [
    {
     "data": {
      "text/plain": [
       "{'dropout': 0.30397377632925776}"
      ]
     },
     "execution_count": 17,
     "metadata": {},
     "output_type": "execute_result"
    }
   ],
   "source": [
    "random_grid_result.best_params_"
   ]
  },
  {
   "cell_type": "code",
   "execution_count": 18,
   "metadata": {},
   "outputs": [
    {
     "data": {
      "text/html": [
       "<div>\n",
       "<style>\n",
       "    .dataframe thead tr:only-child th {\n",
       "        text-align: right;\n",
       "    }\n",
       "\n",
       "    .dataframe thead th {\n",
       "        text-align: left;\n",
       "    }\n",
       "\n",
       "    .dataframe tbody tr th {\n",
       "        vertical-align: top;\n",
       "    }\n",
       "</style>\n",
       "<table border=\"1\" class=\"dataframe\">\n",
       "  <thead>\n",
       "    <tr style=\"text-align: right;\">\n",
       "      <th></th>\n",
       "      <th>mean_fit_time</th>\n",
       "      <th>mean_score_time</th>\n",
       "      <th>mean_test_score</th>\n",
       "      <th>mean_train_score</th>\n",
       "      <th>param_dropout</th>\n",
       "      <th>params</th>\n",
       "      <th>rank_test_score</th>\n",
       "      <th>split0_test_score</th>\n",
       "      <th>split0_train_score</th>\n",
       "      <th>split1_test_score</th>\n",
       "      <th>split1_train_score</th>\n",
       "      <th>std_fit_time</th>\n",
       "      <th>std_score_time</th>\n",
       "      <th>std_test_score</th>\n",
       "      <th>std_train_score</th>\n",
       "    </tr>\n",
       "  </thead>\n",
       "  <tbody>\n",
       "    <tr>\n",
       "      <th>0</th>\n",
       "      <td>81.198032</td>\n",
       "      <td>15.639521</td>\n",
       "      <td>0.55556</td>\n",
       "      <td>0.55788</td>\n",
       "      <td>0.761611</td>\n",
       "      <td>{'dropout': 0.761611244548}</td>\n",
       "      <td>3</td>\n",
       "      <td>0.61576</td>\n",
       "      <td>0.61112</td>\n",
       "      <td>0.49536</td>\n",
       "      <td>0.50464</td>\n",
       "      <td>0.388168</td>\n",
       "      <td>0.135061</td>\n",
       "      <td>0.06020</td>\n",
       "      <td>0.05324</td>\n",
       "    </tr>\n",
       "    <tr>\n",
       "      <th>1</th>\n",
       "      <td>62.265965</td>\n",
       "      <td>12.302037</td>\n",
       "      <td>0.84960</td>\n",
       "      <td>0.88104</td>\n",
       "      <td>0.303974</td>\n",
       "      <td>{'dropout': 0.303973776329}</td>\n",
       "      <td>1</td>\n",
       "      <td>0.85608</td>\n",
       "      <td>0.88968</td>\n",
       "      <td>0.84312</td>\n",
       "      <td>0.87240</td>\n",
       "      <td>6.730346</td>\n",
       "      <td>0.716967</td>\n",
       "      <td>0.00648</td>\n",
       "      <td>0.00864</td>\n",
       "    </tr>\n",
       "    <tr>\n",
       "      <th>2</th>\n",
       "      <td>54.754967</td>\n",
       "      <td>11.811988</td>\n",
       "      <td>0.56836</td>\n",
       "      <td>0.56644</td>\n",
       "      <td>0.79166</td>\n",
       "      <td>{'dropout': 0.791659673494}</td>\n",
       "      <td>2</td>\n",
       "      <td>0.63208</td>\n",
       "      <td>0.63752</td>\n",
       "      <td>0.50464</td>\n",
       "      <td>0.49536</td>\n",
       "      <td>0.026236</td>\n",
       "      <td>0.233368</td>\n",
       "      <td>0.06372</td>\n",
       "      <td>0.07108</td>\n",
       "    </tr>\n",
       "  </tbody>\n",
       "</table>\n",
       "</div>"
      ],
      "text/plain": [
       "   mean_fit_time  mean_score_time  mean_test_score  mean_train_score  \\\n",
       "0      81.198032        15.639521          0.55556           0.55788   \n",
       "1      62.265965        12.302037          0.84960           0.88104   \n",
       "2      54.754967        11.811988          0.56836           0.56644   \n",
       "\n",
       "  param_dropout                       params  rank_test_score  \\\n",
       "0      0.761611  {'dropout': 0.761611244548}                3   \n",
       "1      0.303974  {'dropout': 0.303973776329}                1   \n",
       "2       0.79166  {'dropout': 0.791659673494}                2   \n",
       "\n",
       "   split0_test_score  split0_train_score  split1_test_score  \\\n",
       "0            0.61576             0.61112            0.49536   \n",
       "1            0.85608             0.88968            0.84312   \n",
       "2            0.63208             0.63752            0.50464   \n",
       "\n",
       "   split1_train_score  std_fit_time  std_score_time  std_test_score  \\\n",
       "0             0.50464      0.388168        0.135061         0.06020   \n",
       "1             0.87240      6.730346        0.716967         0.00648   \n",
       "2             0.49536      0.026236        0.233368         0.06372   \n",
       "\n",
       "   std_train_score  \n",
       "0          0.05324  \n",
       "1          0.00864  \n",
       "2          0.07108  "
      ]
     },
     "execution_count": 18,
     "metadata": {},
     "output_type": "execute_result"
    }
   ],
   "source": [
    "pd.DataFrame(random_grid_result.cv_results_)"
   ]
  },
  {
   "cell_type": "code",
   "execution_count": null,
   "metadata": {
    "collapsed": true
   },
   "outputs": [],
   "source": []
  }
 ],
 "metadata": {
  "kernelspec": {
   "display_name": "Python 3",
   "language": "python",
   "name": "python3"
  },
  "language_info": {
   "codemirror_mode": {
    "name": "ipython",
    "version": 3
   },
   "file_extension": ".py",
   "mimetype": "text/x-python",
   "name": "python",
   "nbconvert_exporter": "python",
   "pygments_lexer": "ipython3",
   "version": "3.6.3"
  }
 },
 "nbformat": 4,
 "nbformat_minor": 2
}
