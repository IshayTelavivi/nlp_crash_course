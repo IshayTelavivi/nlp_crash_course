{
 "cells": [
  {
   "cell_type": "markdown",
   "metadata": {},
   "source": [
    "# Lesson 05D - Multiple Kernel Size with RandomizedSearch\n"
   ]
  },
  {
   "cell_type": "markdown",
   "metadata": {},
   "source": [
    "Most of the code here is based on that [post](file:///C:/Users/ishay/Documents/Data%20Science/Coursera%20and%20practice/ML_Mastery/NLP/Model%20Improvement%20and%20Best%20Practices/How%20to%20Develop%20an%20N-gram%20Multichannel%20Convolutional%20Neural%20Network%20for%20Sentiment%20Analysis.html) from ML Mastery."
   ]
  },
  {
   "cell_type": "code",
   "execution_count": 1,
   "metadata": {},
   "outputs": [
    {
     "name": "stderr",
     "output_type": "stream",
     "text": [
      "Using TensorFlow backend.\n"
     ]
    }
   ],
   "source": [
    "from keras.datasets import imdb\n",
    "import pandas as pd\n",
    "import numpy as np\n",
    "from keras.preprocessing import sequence\n",
    "#from keras.models import Sequential\n",
    "from keras.models import Model\n",
    "from keras.layers import Embedding\n",
    "from keras.layers import SpatialDropout1D\n",
    "from keras.layers import Convolution1D\n",
    "from keras.layers import Conv1D\n",
    "from keras.layers import GlobalMaxPooling1D\n",
    "from keras.layers import MaxPooling1D\n",
    "from keras.layers import Input\n",
    "from keras.layers import Dense, Dropout, Activation, Flatten\n",
    "from keras.layers.merge import concatenate"
   ]
  },
  {
   "cell_type": "code",
   "execution_count": 2,
   "metadata": {},
   "outputs": [],
   "source": [
    "max_features = 5000"
   ]
  },
  {
   "cell_type": "code",
   "execution_count": 3,
   "metadata": {},
   "outputs": [
    {
     "name": "stdout",
     "output_type": "stream",
     "text": [
      "Downloading data from https://s3.amazonaws.com/text-datasets/imdb.npz\n",
      "17465344/17464789 [==============================] - 3s 0us/step\n"
     ]
    }
   ],
   "source": [
    "(X_train, y_train), (X_test, y_test) = imdb.load_data(num_words=max_features) # instead on nb_words="
   ]
  },
  {
   "cell_type": "code",
   "execution_count": 4,
   "metadata": {},
   "outputs": [
    {
     "data": {
      "text/plain": [
       "(25000,)"
      ]
     },
     "execution_count": 4,
     "metadata": {},
     "output_type": "execute_result"
    }
   ],
   "source": [
    "X_train.shape"
   ]
  },
  {
   "cell_type": "markdown",
   "metadata": {},
   "source": [
    "**Sequence Padding**"
   ]
  },
  {
   "cell_type": "code",
   "execution_count": 5,
   "metadata": {},
   "outputs": [],
   "source": [
    "maxlen = 400"
   ]
  },
  {
   "cell_type": "markdown",
   "metadata": {},
   "source": [
    "We define maximum length of 400. It means that posts shoeter than 400 will be filled with 0s, and longer posts are cut."
   ]
  },
  {
   "cell_type": "code",
   "execution_count": 6,
   "metadata": {},
   "outputs": [],
   "source": [
    "X_train = sequence.pad_sequences(X_train, maxlen=maxlen)\n",
    "X_test = sequence.pad_sequences(X_test, maxlen=maxlen)"
   ]
  },
  {
   "cell_type": "markdown",
   "metadata": {},
   "source": [
    "**Now defining the model**"
   ]
  },
  {
   "cell_type": "code",
   "execution_count": 7,
   "metadata": {},
   "outputs": [],
   "source": [
    "def create_model(kernel_size_conv1=3, n_strides=1, output_vec_dim=50):\n",
    "    inputs_shape = Input(shape=(400,))\n",
    "    # First channel\n",
    "    #inputs_shape1 = Input(shape=(400,))\n",
    "    embed1 = Embedding(input_dim=5000, output_dim=output_vec_dim)(inputs_shape)\n",
    "    spat_drop1 = SpatialDropout1D(0.4)(embed1)\n",
    "    conv1 = Conv1D(filters=250, kernel_size=kernel_size_conv1, padding='valid', activation='relu', strides=n_strides)(spat_drop1)\n",
    "    pool1 = MaxPooling1D(pool_size=2)(conv1)\n",
    "    flat1 = Flatten()(pool1)\n",
    "    \n",
    "    # Second channel\n",
    "    #inputs_shape2 = Input(shape=(400,))\n",
    "    embed2 = Embedding(input_dim=5000, output_dim=output_vec_dim)(inputs_shape)\n",
    "    spat_drop2 = SpatialDropout1D(0.3)(embed2)\n",
    "    conv2 = Conv1D(filters=250, kernel_size=4, padding='valid', activation='relu', strides=n_strides)(spat_drop2)\n",
    "    pool2 = MaxPooling1D(pool_size=2)(conv2)\n",
    "    flat2 = Flatten()(pool2)\n",
    "    \n",
    "    # Third channel\n",
    "    #inputs_shape3 = Input(shape=(400,))\n",
    "    embed3 = Embedding(input_dim=5000, output_dim=output_vec_dim)(inputs_shape)\n",
    "    spat_drop3 = SpatialDropout1D(0.4)(embed3)\n",
    "    conv3 = Conv1D(filters=250, kernel_size=5, padding='valid', activation='relu', strides=n_strides)(spat_drop3)\n",
    "    pool3 = MaxPooling1D(pool_size=2)(conv3)\n",
    "    flat3 = Flatten()(pool3)\n",
    "    # merge\n",
    "    merged = concatenate([flat1, flat2, flat3])\n",
    "    # FC layers\n",
    "    dense1 = Dense(250, activation='relu')(merged)\n",
    "    drop1 = Dropout(0.3)(dense1)\n",
    "    dense2 = Dense(20, activation='relu')(drop1)\n",
    "    drop2 = Dropout(0.3)(dense2)\n",
    "    output = Dense(1, activation='sigmoid')(drop2)\n",
    "    model = Model(inputs=inputs_shape, outputs=output)\n",
    "    model.compile(loss='binary_crossentropy', optimizer='adam', metrics=['accuracy'])\n",
    "\n",
    "    return model"
   ]
  },
  {
   "cell_type": "code",
   "execution_count": 8,
   "metadata": {},
   "outputs": [],
   "source": [
    "from keras.wrappers.scikit_learn import KerasClassifier\n",
    "from sklearn.model_selection import RandomizedSearchCV\n",
    "from scipy.stats import randint as sp_randint"
   ]
  },
  {
   "cell_type": "code",
   "execution_count": 9,
   "metadata": {},
   "outputs": [],
   "source": [
    "model = KerasClassifier(build_fn=create_model, verbose=1, epochs=3, batch_size=32)"
   ]
  },
  {
   "cell_type": "code",
   "execution_count": 10,
   "metadata": {},
   "outputs": [
    {
     "name": "stdout",
     "output_type": "stream",
     "text": [
      "__________________________________________________________________________________________________\n",
      "Layer (type)                    Output Shape         Param #     Connected to                     \n",
      "==================================================================================================\n",
      "input_1 (InputLayer)            (None, 400)          0                                            \n",
      "__________________________________________________________________________________________________\n",
      "embedding_1 (Embedding)         (None, 400, 50)      250000      input_1[0][0]                    \n",
      "__________________________________________________________________________________________________\n",
      "embedding_2 (Embedding)         (None, 400, 50)      250000      input_1[0][0]                    \n",
      "__________________________________________________________________________________________________\n",
      "embedding_3 (Embedding)         (None, 400, 50)      250000      input_1[0][0]                    \n",
      "__________________________________________________________________________________________________\n",
      "spatial_dropout1d_1 (SpatialDro (None, 400, 50)      0           embedding_1[0][0]                \n",
      "__________________________________________________________________________________________________\n",
      "spatial_dropout1d_2 (SpatialDro (None, 400, 50)      0           embedding_2[0][0]                \n",
      "__________________________________________________________________________________________________\n",
      "spatial_dropout1d_3 (SpatialDro (None, 400, 50)      0           embedding_3[0][0]                \n",
      "__________________________________________________________________________________________________\n",
      "conv1d_1 (Conv1D)               (None, 398, 250)     37750       spatial_dropout1d_1[0][0]        \n",
      "__________________________________________________________________________________________________\n",
      "conv1d_2 (Conv1D)               (None, 397, 250)     50250       spatial_dropout1d_2[0][0]        \n",
      "__________________________________________________________________________________________________\n",
      "conv1d_3 (Conv1D)               (None, 396, 250)     62750       spatial_dropout1d_3[0][0]        \n",
      "__________________________________________________________________________________________________\n",
      "max_pooling1d_1 (MaxPooling1D)  (None, 199, 250)     0           conv1d_1[0][0]                   \n",
      "__________________________________________________________________________________________________\n",
      "max_pooling1d_2 (MaxPooling1D)  (None, 198, 250)     0           conv1d_2[0][0]                   \n",
      "__________________________________________________________________________________________________\n",
      "max_pooling1d_3 (MaxPooling1D)  (None, 198, 250)     0           conv1d_3[0][0]                   \n",
      "__________________________________________________________________________________________________\n",
      "flatten_1 (Flatten)             (None, 49750)        0           max_pooling1d_1[0][0]            \n",
      "__________________________________________________________________________________________________\n",
      "flatten_2 (Flatten)             (None, 49500)        0           max_pooling1d_2[0][0]            \n",
      "__________________________________________________________________________________________________\n",
      "flatten_3 (Flatten)             (None, 49500)        0           max_pooling1d_3[0][0]            \n",
      "__________________________________________________________________________________________________\n",
      "concatenate_1 (Concatenate)     (None, 148750)       0           flatten_1[0][0]                  \n",
      "                                                                 flatten_2[0][0]                  \n",
      "                                                                 flatten_3[0][0]                  \n",
      "__________________________________________________________________________________________________\n",
      "dense_1 (Dense)                 (None, 250)          37187750    concatenate_1[0][0]              \n",
      "__________________________________________________________________________________________________\n",
      "dropout_1 (Dropout)             (None, 250)          0           dense_1[0][0]                    \n",
      "__________________________________________________________________________________________________\n",
      "dense_2 (Dense)                 (None, 20)           5020        dropout_1[0][0]                  \n",
      "__________________________________________________________________________________________________\n",
      "dropout_2 (Dropout)             (None, 20)           0           dense_2[0][0]                    \n",
      "__________________________________________________________________________________________________\n",
      "dense_3 (Dense)                 (None, 1)            21          dropout_2[0][0]                  \n",
      "==================================================================================================\n",
      "Total params: 38,093,541\n",
      "Trainable params: 38,093,541\n",
      "Non-trainable params: 0\n",
      "__________________________________________________________________________________________________\n"
     ]
    }
   ],
   "source": [
    "create_model().summary()"
   ]
  },
  {
   "cell_type": "code",
   "execution_count": 11,
   "metadata": {},
   "outputs": [],
   "source": [
    "param_dist= {\"kernel_size_conv1\": [2,3],\n",
    "             \"n_strides\": sp_randint(1,3),\n",
    "             \"output_vec_dim\": sp_randint(60,100)}"
   ]
  },
  {
   "cell_type": "code",
   "execution_count": 12,
   "metadata": {},
   "outputs": [
    {
     "name": "stdout",
     "output_type": "stream",
     "text": [
      "Epoch 1/3\n",
      "12500/12500 [==============================] - 33s 3ms/step - loss: 0.6185 - acc: 0.6054\n",
      "Epoch 2/3\n",
      "12500/12500 [==============================] - 30s 2ms/step - loss: 0.3118 - acc: 0.8756\n",
      "Epoch 3/3\n",
      "12500/12500 [==============================] - 30s 2ms/step - loss: 0.1899 - acc: 0.9310\n",
      "12500/12500 [==============================] - 5s 408us/step\n",
      "12500/12500 [==============================] - 5s 398us/step\n",
      "Epoch 1/3\n",
      "12500/12500 [==============================] - 31s 2ms/step - loss: 0.6342 - acc: 0.5927\n",
      "Epoch 2/3\n",
      "12500/12500 [==============================] - 30s 2ms/step - loss: 0.3245 - acc: 0.8739\n",
      "Epoch 3/3\n",
      "12500/12500 [==============================] - 30s 2ms/step - loss: 0.2028 - acc: 0.9273\n",
      "12500/12500 [==============================] - 5s 413us/step\n",
      "12500/12500 [==============================] - 5s 399us/step\n",
      "Epoch 1/3\n",
      "12500/12500 [==============================] - 33s 3ms/step - loss: 0.6034 - acc: 0.6279\n",
      "Epoch 2/3\n",
      "12500/12500 [==============================] - 31s 3ms/step - loss: 0.2944 - acc: 0.8889\n",
      "Epoch 3/3\n",
      "12500/12500 [==============================] - 31s 3ms/step - loss: 0.1715 - acc: 0.9377\n",
      "12500/12500 [==============================] - 6s 447us/step\n",
      "12500/12500 [==============================] - 5s 431us/step\n",
      "Epoch 1/3\n",
      "12500/12500 [==============================] - 33s 3ms/step - loss: 0.6083 - acc: 0.6210\n",
      "Epoch 2/3\n",
      "12500/12500 [==============================] - 32s 3ms/step - loss: 0.2892 - acc: 0.8906\n",
      "Epoch 3/3\n",
      "12500/12500 [==============================] - 31s 3ms/step - loss: 0.1731 - acc: 0.9383\n",
      "12500/12500 [==============================] - 6s 451us/step\n",
      "12500/12500 [==============================] - 5s 433us/step\n",
      "Epoch 1/3\n",
      "12500/12500 [==============================] - 19s 1ms/step - loss: 0.5971 - acc: 0.6266\n",
      "Epoch 2/3\n",
      "12500/12500 [==============================] - 17s 1ms/step - loss: 0.2867 - acc: 0.8906\n",
      "Epoch 3/3\n",
      "12500/12500 [==============================] - 17s 1ms/step - loss: 0.1523 - acc: 0.9474\n",
      "12500/12500 [==============================] - 3s 270us/step\n",
      "12500/12500 [==============================] - 3s 250us/step\n",
      "Epoch 1/3\n",
      "12500/12500 [==============================] - 19s 2ms/step - loss: 0.5689 - acc: 0.6733\n",
      "Epoch 2/3\n",
      "12500/12500 [==============================] - 17s 1ms/step - loss: 0.2918 - acc: 0.8870\n",
      "Epoch 3/3\n",
      "12500/12500 [==============================] - 17s 1ms/step - loss: 0.1575 - acc: 0.9429\n",
      "12500/12500 [==============================] - 3s 276us/step\n",
      "12500/12500 [==============================] - 3s 251us/step\n",
      "Epoch 1/3\n",
      "25000/25000 [==============================] - 62s 2ms/step - loss: 0.4411 - acc: 0.7738\n",
      "Epoch 2/3\n",
      "25000/25000 [==============================] - 61s 2ms/step - loss: 0.2445 - acc: 0.9107\n",
      "Epoch 3/3\n",
      "25000/25000 [==============================] - 60s 2ms/step - loss: 0.1748 - acc: 0.9367\n"
     ]
    }
   ],
   "source": [
    "random_grid = RandomizedSearchCV(estimator=model, param_distributions=param_dist, n_iter = 3, n_jobs=1, return_train_score=True, cv=2)\n",
    "random_grid_result = random_grid.fit(X_train, y_train)"
   ]
  },
  {
   "cell_type": "code",
   "execution_count": 13,
   "metadata": {},
   "outputs": [
    {
     "data": {
      "text/plain": [
       "0.8735999999809265"
      ]
     },
     "execution_count": 13,
     "metadata": {},
     "output_type": "execute_result"
    }
   ],
   "source": [
    "random_grid_result.best_score_"
   ]
  },
  {
   "cell_type": "code",
   "execution_count": 14,
   "metadata": {},
   "outputs": [
    {
     "data": {
      "text/plain": [
       "{'kernel_size_conv1': 2, 'n_strides': 1, 'output_vec_dim': 70}"
      ]
     },
     "execution_count": 14,
     "metadata": {},
     "output_type": "execute_result"
    }
   ],
   "source": [
    "random_grid_result.best_params_"
   ]
  },
  {
   "cell_type": "code",
   "execution_count": 15,
   "metadata": {},
   "outputs": [
    {
     "data": {
      "text/html": [
       "<div>\n",
       "<style scoped>\n",
       "    .dataframe tbody tr th:only-of-type {\n",
       "        vertical-align: middle;\n",
       "    }\n",
       "\n",
       "    .dataframe tbody tr th {\n",
       "        vertical-align: top;\n",
       "    }\n",
       "\n",
       "    .dataframe thead th {\n",
       "        text-align: right;\n",
       "    }\n",
       "</style>\n",
       "<table border=\"1\" class=\"dataframe\">\n",
       "  <thead>\n",
       "    <tr style=\"text-align: right;\">\n",
       "      <th></th>\n",
       "      <th>mean_fit_time</th>\n",
       "      <th>std_fit_time</th>\n",
       "      <th>mean_score_time</th>\n",
       "      <th>std_score_time</th>\n",
       "      <th>param_kernel_size_conv1</th>\n",
       "      <th>param_n_strides</th>\n",
       "      <th>param_output_vec_dim</th>\n",
       "      <th>params</th>\n",
       "      <th>split0_test_score</th>\n",
       "      <th>split1_test_score</th>\n",
       "      <th>mean_test_score</th>\n",
       "      <th>std_test_score</th>\n",
       "      <th>rank_test_score</th>\n",
       "      <th>split0_train_score</th>\n",
       "      <th>split1_train_score</th>\n",
       "      <th>mean_train_score</th>\n",
       "      <th>std_train_score</th>\n",
       "    </tr>\n",
       "  </thead>\n",
       "  <tbody>\n",
       "    <tr>\n",
       "      <th>0</th>\n",
       "      <td>94.054661</td>\n",
       "      <td>0.926545</td>\n",
       "      <td>5.134947</td>\n",
       "      <td>0.028458</td>\n",
       "      <td>2</td>\n",
       "      <td>1</td>\n",
       "      <td>70</td>\n",
       "      <td>{'kernel_size_conv1': 2, 'n_strides': 1, 'outp...</td>\n",
       "      <td>0.87352</td>\n",
       "      <td>0.87368</td>\n",
       "      <td>0.87360</td>\n",
       "      <td>0.00008</td>\n",
       "      <td>1</td>\n",
       "      <td>0.97608</td>\n",
       "      <td>0.97624</td>\n",
       "      <td>0.97616</td>\n",
       "      <td>0.00008</td>\n",
       "    </tr>\n",
       "    <tr>\n",
       "      <th>1</th>\n",
       "      <td>97.066740</td>\n",
       "      <td>0.002880</td>\n",
       "      <td>5.610691</td>\n",
       "      <td>0.024742</td>\n",
       "      <td>3</td>\n",
       "      <td>1</td>\n",
       "      <td>83</td>\n",
       "      <td>{'kernel_size_conv1': 3, 'n_strides': 1, 'outp...</td>\n",
       "      <td>0.85832</td>\n",
       "      <td>0.88200</td>\n",
       "      <td>0.87016</td>\n",
       "      <td>0.01184</td>\n",
       "      <td>2</td>\n",
       "      <td>0.96688</td>\n",
       "      <td>0.98240</td>\n",
       "      <td>0.97464</td>\n",
       "      <td>0.00776</td>\n",
       "    </tr>\n",
       "    <tr>\n",
       "      <th>2</th>\n",
       "      <td>54.886357</td>\n",
       "      <td>0.048368</td>\n",
       "      <td>3.419538</td>\n",
       "      <td>0.036935</td>\n",
       "      <td>3</td>\n",
       "      <td>2</td>\n",
       "      <td>77</td>\n",
       "      <td>{'kernel_size_conv1': 3, 'n_strides': 2, 'outp...</td>\n",
       "      <td>0.86456</td>\n",
       "      <td>0.86168</td>\n",
       "      <td>0.86312</td>\n",
       "      <td>0.00144</td>\n",
       "      <td>3</td>\n",
       "      <td>0.98360</td>\n",
       "      <td>0.98328</td>\n",
       "      <td>0.98344</td>\n",
       "      <td>0.00016</td>\n",
       "    </tr>\n",
       "  </tbody>\n",
       "</table>\n",
       "</div>"
      ],
      "text/plain": [
       "   mean_fit_time  std_fit_time  mean_score_time  std_score_time  \\\n",
       "0      94.054661      0.926545         5.134947        0.028458   \n",
       "1      97.066740      0.002880         5.610691        0.024742   \n",
       "2      54.886357      0.048368         3.419538        0.036935   \n",
       "\n",
       "  param_kernel_size_conv1 param_n_strides param_output_vec_dim  \\\n",
       "0                       2               1                   70   \n",
       "1                       3               1                   83   \n",
       "2                       3               2                   77   \n",
       "\n",
       "                                              params  split0_test_score  \\\n",
       "0  {'kernel_size_conv1': 2, 'n_strides': 1, 'outp...            0.87352   \n",
       "1  {'kernel_size_conv1': 3, 'n_strides': 1, 'outp...            0.85832   \n",
       "2  {'kernel_size_conv1': 3, 'n_strides': 2, 'outp...            0.86456   \n",
       "\n",
       "   split1_test_score  mean_test_score  std_test_score  rank_test_score  \\\n",
       "0            0.87368          0.87360         0.00008                1   \n",
       "1            0.88200          0.87016         0.01184                2   \n",
       "2            0.86168          0.86312         0.00144                3   \n",
       "\n",
       "   split0_train_score  split1_train_score  mean_train_score  std_train_score  \n",
       "0             0.97608             0.97624           0.97616          0.00008  \n",
       "1             0.96688             0.98240           0.97464          0.00776  \n",
       "2             0.98360             0.98328           0.98344          0.00016  "
      ]
     },
     "execution_count": 15,
     "metadata": {},
     "output_type": "execute_result"
    }
   ],
   "source": [
    "pd.DataFrame(random_grid_result.cv_results_)"
   ]
  }
 ],
 "metadata": {
  "kernelspec": {
   "display_name": "Python 3",
   "language": "python",
   "name": "python3"
  },
  "language_info": {
   "codemirror_mode": {
    "name": "ipython",
    "version": 3
   },
   "file_extension": ".py",
   "mimetype": "text/x-python",
   "name": "python",
   "nbconvert_exporter": "python",
   "pygments_lexer": "ipython3",
   "version": "3.6.5"
  }
 },
 "nbformat": 4,
 "nbformat_minor": 2
}
